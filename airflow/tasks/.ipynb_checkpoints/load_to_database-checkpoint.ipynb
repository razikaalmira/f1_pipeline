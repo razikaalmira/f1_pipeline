{
 "cells": [
  {
   "cell_type": "code",
   "execution_count": 1,
   "id": "1822f328-6cba-446b-b378-cdec3703825a",
   "metadata": {},
   "outputs": [],
   "source": [
    "import psycopg2\n",
    "import pandas as pd\n",
    "import boto3\n",
    "from io import StringIO\n",
    "import json\n",
    "import psycopg2\n",
    "from config import config\n",
    "from sqlalchemy import create_engine"
   ]
  },
  {
   "cell_type": "code",
   "execution_count": 3,
   "id": "db6c3120-dc77-4238-b802-e6cf976bb6d6",
   "metadata": {},
   "outputs": [],
   "source": [
    "my_bucket = 'formula1-project-bucket'\n",
    "s3_resource = boto3.resource('s3')\n",
    "\n",
    "# List all the csv in the bucket\n",
    "bucket = s3_resource.Bucket(my_bucket)\n",
    "objects = bucket.objects.all()\n",
    "object_list = []\n",
    "for o in objects:\n",
    "    object_list.append(o.key)"
   ]
  },
  {
   "cell_type": "code",
   "execution_count": 4,
   "id": "fc755e3a-7ab4-4854-8a74-c98b2ee92613",
   "metadata": {},
   "outputs": [],
   "source": [
    "# # Import all the csv in the bucket as dataframe\n",
    "# dfs = []\n",
    "# for file_name in object_list:\n",
    "#     obj = s3_resource.Object(bucket_name=my_bucket, key=file_name)\n",
    "#     response = obj.get()\n",
    "#     data = response['Body'].read().decode('utf-8')\n",
    "#     df = pd.read_csv(StringIO(data),on_bad_lines='skip')\n",
    "#     dfs.append(df)\n",
    "\n",
    "# name_list = [object.split('.')[0] for object in object_list]\n",
    "\n",
    "# for name,df in zip(name_list,dfs):\n",
    "#     globals()[name] = df"
   ]
  },
  {
   "cell_type": "code",
   "execution_count": 7,
   "id": "08c21e21-c964-4cd5-a8b3-260d872519e3",
   "metadata": {},
   "outputs": [],
   "source": [
    "# Import all the csv in the bucket as dataframe\n",
    "# dfs = []\n",
    "for file_name in object_list:\n",
    "    obj = s3_resource.Object(bucket_name=my_bucket, key=file_name)\n",
    "    response = obj.get()\n",
    "    data = response['Body'].read().decode('utf-8')\n",
    "    globals()[file_name.split('.')[0]] = pd.read_csv(StringIO(data),on_bad_lines='skip')"
   ]
  },
  {
   "cell_type": "code",
   "execution_count": 8,
   "id": "fb43364b-22c2-4938-8d19-7f79dd2d3482",
   "metadata": {},
   "outputs": [],
   "source": [
    "race_result_df = race_result.copy()\n",
    "race_result_df['Driver'] = race_result_df['Driver'].apply(lambda x: x.replace(\"'\",'\"'))\n",
    "race_result_df['Constructor'] = race_result_df['Constructor'].apply(lambda x: x.replace(\"'\",'\"'))\n",
    "race_result_df['Time'] = race_result_df['Time'].apply(lambda x: str(x).replace(\"'\",'\"'))\n",
    "race_result_df['FastestLap'] = race_result_df['FastestLap'].apply(lambda x: str(x).replace(\"'\",'\"'))"
   ]
  },
  {
   "cell_type": "code",
   "execution_count": 9,
   "id": "6f55e96e-f4ff-46c7-aba9-94387daa0516",
   "metadata": {},
   "outputs": [],
   "source": [
    "constructor_df = race_result_df['Constructor'].apply(lambda x: pd.Series(json.loads(x))).drop_duplicates().reset_index(drop=True)"
   ]
  },
  {
   "cell_type": "code",
   "execution_count": 10,
   "id": "ab5393ae-28a0-4045-90c9-65f0a79a51ae",
   "metadata": {},
   "outputs": [],
   "source": [
    "driver_df = race_result_df['Driver'].apply(lambda x: pd.Series(json.loads(x))).drop_duplicates().reset_index(drop=True)"
   ]
  },
  {
   "cell_type": "code",
   "execution_count": 11,
   "id": "9350eec7-33b2-4e5d-a047-bd7b8f517a33",
   "metadata": {},
   "outputs": [],
   "source": [
    "# add columns of grass dates for slowly changing dimension\n",
    "driver_df['start_grass_date'] = '2020-01-01'\n",
    "driver_df['end_grass_date'] = '9999-12-31'\n",
    "driver_df['is_current'] = 'Yes'"
   ]
  },
  {
   "cell_type": "code",
   "execution_count": 12,
   "id": "89ae76b6-6a06-4502-9dd5-4df0c3788193",
   "metadata": {},
   "outputs": [],
   "source": [
    "# add current driver number\n",
    "current_wc = driver_df[driver_df['code']=='VER'].copy()\n",
    "current_wc['permanentNumber'] = 1\n",
    "current_wc['start_grass_date'] = '2022-01-01'\n",
    "driver_df = driver_df._append(current_wc,ignore_index=True)"
   ]
  },
  {
   "cell_type": "code",
   "execution_count": 13,
   "id": "d8fa4b72-12a4-4869-8739-c8706bddc587",
   "metadata": {},
   "outputs": [],
   "source": [
    "driver_df.loc[(driver_df['code']=='VER') & (driver_df['permanentNumber']=='33'),['start_grass_date','end_grass_date','is_current']] = ['2020-01-01','2021-12-31','No']"
   ]
  },
  {
   "cell_type": "code",
   "execution_count": 14,
   "id": "88869e61-091a-42cc-976a-c4e5a9304ca6",
   "metadata": {
    "scrolled": true
   },
   "outputs": [],
   "source": [
    "race_result_df['permanentNumber'] = race_result_df['Driver'].apply(lambda x: json.loads(x)['permanentNumber'])\n",
    "race_result_df['driverId'] = race_result_df['Driver'].apply(lambda x: json.loads(x)['driverId'])\n",
    "race_result_df['constructorId'] = race_result_df['Constructor'].apply(lambda x: json.loads(x)['constructorId'])"
   ]
  },
  {
   "cell_type": "code",
   "execution_count": 15,
   "id": "1e217786-6b2a-4810-9fa6-a9a60bbb76ad",
   "metadata": {},
   "outputs": [],
   "source": [
    "fastest_lap_df = race_result_df.copy()\n",
    "\n",
    "def is_json(x):\n",
    "    try:\n",
    "        json.loads(x)\n",
    "        return True\n",
    "    except Exception as e:\n",
    "        return False\n",
    "\n",
    "fastest_lap_df = fastest_lap_df[fastest_lap_df['FastestLap'].apply(lambda x: is_json(x))]\n",
    "fastest_lap_df.drop(columns=['position','positionText','Driver','Constructor','grid','laps','status','Time'],inplace=True)\n",
    "fastest_lap_df['rank_fastest_lap'] = fastest_lap_df['FastestLap'].apply(lambda x: json.loads(x)['rank'])\n",
    "fastest_lap_df['lap'] = fastest_lap_df['FastestLap'].apply(lambda x: json.loads(x)['lap'])\n",
    "fastest_lap_df['time'] = fastest_lap_df['FastestLap'].apply(lambda x: json.loads(x)['Time']['time'])\n",
    "fastest_lap_df['average_speed'] = fastest_lap_df['FastestLap'].apply(lambda x: json.loads(x)['AverageSpeed']['speed'])"
   ]
  },
  {
   "cell_type": "code",
   "execution_count": 49,
   "id": "52cc20ef-6656-48fb-9222-9b19dc2b78bc",
   "metadata": {},
   "outputs": [],
   "source": [
    "fastest_lap_df.drop(columns=['FastestLap'],inplace=True)"
   ]
  },
  {
   "cell_type": "code",
   "execution_count": 16,
   "id": "2362f418-b1ba-4c7a-b4c1-0934e6ba967b",
   "metadata": {},
   "outputs": [],
   "source": [
    "# fixed invalid values in column 'Time'\n",
    "race_result_df.loc[race_result_df['Time']=='nan','Time'] = {\"millis\": \"\", \"time\": \"\"}"
   ]
  },
  {
   "cell_type": "code",
   "execution_count": 78,
   "id": "3b433633-e1b0-41fe-9aa1-b15381f72c2d",
   "metadata": {},
   "outputs": [],
   "source": [
    "# def parse_json(x):\n",
    "#     try:\n",
    "#         if pd.notna(x):\n",
    "#             return json.loads(x)\n",
    "#         else:\n",
    "#             None\n",
    "#     except (json.JSONDecodeError, TypeError, KeyError):\n",
    "#         return None\n",
    "\n",
    "# race_result_df['absolute_millisecond'] = race_result_df['Time'].apply(lambda x: parse_json(x)['millis'] if isinstance(x, dict) and 'millis' in x.keys() else None)\n",
    "# race_result_df['relative_time'] = race_result_df['Time'].apply(lambda x: parse_json(x)['relative_time'] if isinstance(x, dict) and 'time' in x.keys() else None)"
   ]
  },
  {
   "cell_type": "code",
   "execution_count": 17,
   "id": "bbf35220-e55a-4a7f-a9f8-d8a09ce89246",
   "metadata": {},
   "outputs": [],
   "source": [
    "race_result_df['absolute_millisecond'] = race_result_df['Time'].apply(lambda x: json.loads(x)['millis'] if pd.notnull(x) else None)\n",
    "race_result_df['relative_time'] = race_result_df['Time'].apply(lambda x: json.loads(x)['time'] if pd.notnull(x) else None)"
   ]
  },
  {
   "cell_type": "code",
   "execution_count": 18,
   "id": "b35c9670-ef35-490a-8d34-b4f9b6588bdd",
   "metadata": {},
   "outputs": [],
   "source": [
    "race_result_df.drop(columns=['Driver','Constructor','Time','FastestLap'],inplace=True)"
   ]
  },
  {
   "cell_type": "code",
   "execution_count": 19,
   "id": "16d58318-5387-4cd2-9066-b18812cc0452",
   "metadata": {},
   "outputs": [],
   "source": [
    "season_list['Circuit'] = season_list['Circuit'].apply(lambda x: str(x).replace(\"'\",'\"'))\n",
    "season_list['FirstPractice'] = season_list['FirstPractice'].apply(lambda x: str(x).replace(\"'\",'\"'))\n",
    "season_list['SecondPractice'] = season_list['SecondPractice'].apply(lambda x: str(x).replace(\"'\",'\"'))\n",
    "season_list['ThirdPractice'] = season_list['ThirdPractice'].apply(lambda x: str(x).replace(\"'\",'\"'))\n",
    "season_list['Qualifying'] = season_list['Qualifying'].apply(lambda x: str(x).replace(\"'\",'\"'))\n",
    "season_list['Sprint'] = season_list['Sprint'].apply(lambda x: str(x).replace(\"'\",'\"'))\n",
    "season_list['Location'] = season_list['Location'].apply(lambda x: str(x).replace(\"'\",'\"'))"
   ]
  },
  {
   "cell_type": "code",
   "execution_count": 20,
   "id": "ada52e70-ee0b-4369-aa60-5cf93852324f",
   "metadata": {},
   "outputs": [],
   "source": [
    "season_list['circuitId'] = season_list['Circuit'].apply(lambda x: json.loads(x)['circuitId'])\n",
    "season_list['circuit_url'] = season_list['Circuit'].apply(lambda x: json.loads(x)['url'])\n",
    "season_list['circuitName'] = season_list['Circuit'].apply(lambda x: json.loads(x)['circuitName'])\n",
    "season_list['Location'] = season_list['Circuit'].apply(lambda x: json.loads(x)['Location'])"
   ]
  },
  {
   "cell_type": "code",
   "execution_count": 21,
   "id": "ae1a0b45-67b1-429e-a7f3-4fde77d685fb",
   "metadata": {},
   "outputs": [],
   "source": [
    "season_list.drop(columns=['Circuit'],inplace=True)"
   ]
  },
  {
   "cell_type": "code",
   "execution_count": 24,
   "id": "ee0199d5-95ce-40b5-966e-4f4500028385",
   "metadata": {},
   "outputs": [],
   "source": [
    "meeting_info = meeting_info.sort_values(by=['year', 'date_start'], ascending=[True, True])\n",
    "\n",
    "# Then, use groupby to group the DataFrame by 'year' and calculate the rank\n",
    "meeting_info['round'] = meeting_info.groupby('year').cumcount()"
   ]
  },
  {
   "cell_type": "code",
   "execution_count": 25,
   "id": "71e352e2-0f62-4423-97c5-a6a674f19039",
   "metadata": {},
   "outputs": [],
   "source": [
    "merged_df = race_result_df.merge(meeting_info[['year','round','meeting_key']],left_on=['season','round'],right_on=['year','round'],how='left')\n",
    "race_result_df = merged_df[merged_df['meeting_key'].notna()].astype({'meeting_key':'int64'}).drop(columns=['year'])"
   ]
  },
  {
   "cell_type": "code",
   "execution_count": 26,
   "id": "31ec04bd-e331-4167-900f-a76348c393f9",
   "metadata": {},
   "outputs": [],
   "source": [
    "session_info = session_info.sort_values(by=['year','date_start'])\n",
    "session_info['round'] = session_info.groupby('year').cumcount()+1\n",
    "session_info.drop(columns=['circuit_key','circuit_short_name','country_key','country_code','country_name'],inplace=True)"
   ]
  },
  {
   "cell_type": "code",
   "execution_count": 27,
   "id": "7d1e1ee3-0dbc-4a48-a230-8dfa7de71faa",
   "metadata": {},
   "outputs": [],
   "source": [
    "merged_df2 = race_result_df.merge(session_info[['year','round','session_key']],left_on=['season','round'],right_on=['year','round'],how='left')\n",
    "race_result_df = merged_df2[merged_df2['meeting_key'].notna()].astype({'meeting_key':'int64'}).drop(columns=['year'])"
   ]
  },
  {
   "cell_type": "code",
   "execution_count": 28,
   "id": "038d76e1-1a7d-4bd8-a3a1-8259812dc848",
   "metadata": {},
   "outputs": [],
   "source": [
    "# extract meeting_key column to season_list dataframe\n",
    "merged_df = season_list.merge(meeting_info[['year','round','meeting_key']],left_on=['season','round'],right_on=['year','round'],how='left')\n",
    "season_list = merged_df[merged_df['meeting_key'].notna()].astype({'meeting_key':'int64'}).drop(columns=['year'])"
   ]
  },
  {
   "cell_type": "code",
   "execution_count": 3,
   "id": "acc5b12d-a74e-4c79-9c56-0f88f0dba6ba",
   "metadata": {},
   "outputs": [],
   "source": [
    "dfs = [race_result_df,\n",
    "        driver_df,\n",
    "        constructor_df,\n",
    "        meeting_info,\n",
    "        session_info,\n",
    "        weather_info,\n",
    "        laps_data,\n",
    "        season_list]\n",
    "\n",
    "\n",
    "\n",
    "# import configuration\n",
    "params = config()\n",
    "# create connection\n",
    "conn = psycopg2.connect(**params)\n",
    "# create cursor\n",
    "cur = conn.cursor()\n",
    "\n",
    "conn_string = f\"postgresql://{params['user']}:{params['password']}@{params['host']}/{params['database']}\"\n",
    "engine = create_engine(conn_string).connect()\n",
    "\n",
    "\n",
    "def create_table(sql_query):\n",
    "    try:\n",
    "        cur.execute(sql_query)\n",
    "    except Exception as e:\n",
    "        print(f\"Error: {e}\")\n",
    "        print(f\"Query: {sql_query}\")\n",
    "        conn.rollback()\n",
    "    else:\n",
    "        conn.commit()\n",
    "        print(f\"table has been created\")\n",
    "        \n",
    "def insert_to_table(dataframe,table_name):\n",
    "    try:\n",
    "        dataframe.to_sql(name=table_name,con=engine,if_exists='replace',index=False)\n",
    "        # conn.autocommit = True\n",
    "    except Exception as e:\n",
    "        print(f\"Error: {e}\")\n",
    "    else:\n",
    "        conn.commit()\n",
    "        print(f\"{table_name} has been inserted\")\n",
    "\n",
    "# if __name__ == \"__main__\":\n",
    "\n",
    "    # cur.close()\n",
    "    # conn.close()"
   ]
  },
  {
   "cell_type": "code",
   "execution_count": 112,
   "id": "bfc14a0f-c158-4497-a67e-b4882c94567c",
   "metadata": {},
   "outputs": [
    {
     "name": "stdout",
     "output_type": "stream",
     "text": [
      "race_result has been inserted\n",
      "laps_data has been inserted\n",
      "weather_data has been inserted\n",
      "fastest_lap has been inserted\n",
      "dim_driver has been inserted\n",
      "dim_constructor has been inserted\n",
      "dim_season has been inserted\n",
      "dim_session has been inserted\n",
      "dim_meeting has been inserted\n"
     ]
    }
   ],
   "source": [
    "pairs = [[race_result_df,'race_result'],\n",
    "        [laps_data,'laps_data'],\n",
    "        [weather_info,'weather_data'],\n",
    "        [fastest_lap_df,'fastest_lap'],\n",
    "        [driver_df,'dim_driver'],\n",
    "       [constructor_df,'dim_constructor'],\n",
    "       [season_list,'dim_season'],\n",
    "       [session_info,'dim_session'],\n",
    "        [meeting_info,'dim_meeting']]\n",
    "\n",
    "for df,tablename in pairs:\n",
    "    insert_to_table(df,tablename)"
   ]
  },
  {
   "cell_type": "code",
   "execution_count": 100,
   "id": "7516572d-ed02-4adc-8598-30b08ba6427e",
   "metadata": {},
   "outputs": [
    {
     "name": "stdout",
     "output_type": "stream",
     "text": [
      "table has been created\n"
     ]
    }
   ],
   "source": [
    "# create_table(dim_driver)\n",
    "# create_table(dim_constructor)\n",
    "# create_table(dim_meeting)\n",
    "# create_table(dim_season)\n",
    "# create_table(dim_session)\n",
    "# create_table(race_result)\n",
    "# create_table(laps)\n",
    "# create_table(weather_data)\n",
    "# create_table(fastest_lap)"
   ]
  },
  {
   "cell_type": "code",
   "execution_count": 99,
   "id": "415029e5-1765-4be7-92f6-fb56e9fbf92d",
   "metadata": {},
   "outputs": [],
   "source": [
    "dim_driver = \"\"\"\n",
    "    CREATE TABLE dim_driver (\n",
    "        driver_id VARCHAR(100) PRIMARY KEY,\n",
    "        driver_number INTEGER NOT NULL,\n",
    "        code VARCHAR(50) UNIQUE NOT NULL,\n",
    "        url VARCHAR(200),\n",
    "        given_name VARCHAR(50) NOT NULL,\n",
    "        family_name VARCHAR(50) NOT NULL,\n",
    "        birthdate DATE NOT NULL,\n",
    "        nationality VARCHAR(50) NOT NULL,\n",
    "        start_grass_date DATE NOT NULL,\n",
    "        end_grass_date DATE NOT NULL,\n",
    "        is_current VARCHAR(3) NOT NULL\n",
    "        );\n",
    "        \"\"\"\n",
    "\n",
    "dim_constructor = \"\"\"\n",
    "    CREATE TABLE dim_constructor (\n",
    "        constructor_id VARCHAR(100) PRIMARY KEY,\n",
    "        url VARCHAR(200),\n",
    "        name VARCHAR(50) NOT NULL,\n",
    "        nationality VARCHAR(50) NOT NULL\n",
    "        );\n",
    "        \"\"\"\n",
    "\n",
    "dim_meeting = \"\"\"\n",
    "    CREATE TABLE dim_meeting (\n",
    "        meeting_name VARCHAR(100),\n",
    "        meeting_official_name VARCHAR(100) NOT NULL,\n",
    "        city VARCHAR(50) NOT NULL,\n",
    "        race_name VARCHAR(50),\n",
    "        country_key INTEGER,\n",
    "        country_code VARCHAR(50),\n",
    "        country_name VARCHAR(50),\n",
    "        circuit_key INTEGER,\n",
    "        circuit_short_name VARCHAR(50),\n",
    "        date_start DATE,\n",
    "        gmt_offset TIME,\n",
    "        meeting_key INTEGER PRIMARY KEY,\n",
    "        year INTEGER,\n",
    "        meeting_code VARCHAR(10),\n",
    "        round INTEGER\n",
    "        );\n",
    "        \"\"\"\n",
    "\n",
    "dim_season = \"\"\"\n",
    "    CREATE TABLE dim_season (\n",
    "        season INTEGER NOT NULL,\n",
    "        round INTEGER NOT NULL,\n",
    "        url VARCHAR(200),\n",
    "        race_name VARCHAR(100) NOT NULL,\n",
    "        date DATE,\n",
    "        time TIME,\n",
    "        first_practice JSONB,\n",
    "        second_practice JSONB,\n",
    "        third_practice JSONB,\n",
    "        qualifying JSONB,\n",
    "        sprint JSONB,\n",
    "        circuit_id VARCHAR(50),\n",
    "        circuit_url VARCHAR(200),\n",
    "        circuit_name VARCHAR(50),\n",
    "        location JSONB,\n",
    "        meeting_key INTEGER REFERENCES dim_meeting(meeting_key)\n",
    "        );\n",
    "        \"\"\"\n",
    "\n",
    "dim_session = \"\"\"\n",
    "    CREATE TABLE dim_session (\n",
    "        location VARCHAR(50),\n",
    "        session_type VARCHAR(50),\n",
    "        session_name VARCHAR(50),\n",
    "        date_start VARCHAR(50),\n",
    "        date_end VARCHAR(50),\n",
    "        gmt_offset TIME,\n",
    "        session_key INTEGER PRIMARY KEY,\n",
    "        meeting_key INTEGER REFERENCES dim_meeting(meeting_key),\n",
    "        year INTEGER,\n",
    "        round INTEGER\n",
    "        );\n",
    "        \"\"\"\n",
    "\n",
    "race_result = \"\"\"\n",
    "    CREATE TABLE race_result (\n",
    "        driver_number INTEGER,\n",
    "        position INTEGER,\n",
    "        position_text VARCHAR(50),\n",
    "        points DECIMAL,\n",
    "        grid INTEGER,\n",
    "        laps INTEGER,\n",
    "        status VARCHAR(50),\n",
    "        season INTEGER,\n",
    "        round INTEGER,\n",
    "        permanent_number VARCHAR(50),\n",
    "        driver_id VARCHAR(100) REFERENCES dim_driver(driver_id), \n",
    "        constructor_id VARCHAR(100) REFERENCES dim_constructor(constructor_id),\n",
    "        absolute_millisecond VARCHAR(50),\n",
    "        relative_time VARCHAR(50),\n",
    "        session_key INTEGER REFERENCES dim_session(session_key),\n",
    "        meeting_key INTEGER REFERENCES dim_meeting(meeting_key)\n",
    "        );\n",
    "        \"\"\"\n",
    "\n",
    "laps = \"\"\"\n",
    "    CREATE TABLE laps_data (\n",
    "        meeting_key INTEGER REFERENCES dim_meeting(meeting_key),\n",
    "        session_key INTEGER REFERENCES dim_session(session_key),\n",
    "        driver_number INTEGER,\n",
    "        i1_speed DECIMAL,\n",
    "        i2_speed DECIMAL,\n",
    "        st_speed DECIMAL,\n",
    "        date_start VARCHAR(50),\n",
    "        lap_duration FLOAT,\n",
    "        is_pit_out_lap BOOLEAN,\n",
    "        duration_sector_1 DECIMAL,\n",
    "        duration_sector_2 DECIMAL,\n",
    "        duration_sector_3 DECIMAL,\n",
    "        segments_sector_1 VARCHAR(100),\n",
    "        segments_sector_2 VARCHAR(100),\n",
    "        segments_sector_3 VARCHAR(100),\n",
    "        lap_number INTEGER\n",
    "        );\n",
    "        \"\"\"\n",
    "\n",
    "weather_data = \"\"\"\n",
    "    CREATE TABLE weather_data (\n",
    "        meeting_key INTEGER REFERENCES dim_meeting(meeting_key),\n",
    "        session_key INTEGER REFERENCES dim_session(session_key),\n",
    "        date VARCHAR(50),\n",
    "        air_temperature DECIMAL,\n",
    "        humidity DECIMAL,\n",
    "        pressure DECIMAL,\n",
    "        rainfall INTEGER,\n",
    "        track_temperature DECIMAL,\n",
    "        wind_direction INTEGER,\n",
    "        wind_speed DECIMAL\n",
    "        );\n",
    "        \"\"\"\n",
    "\n",
    "fastest_lap = \"\"\"\n",
    "    CREATE TABLE fastest_lap (\n",
    "        driver_number INTEGER,\n",
    "        points DECIMAL,\n",
    "        season INTEGER,\n",
    "        round INTEGER,\n",
    "        permanent_number VARCHAR(50),\n",
    "        driver_id VARCHAR(100) REFERENCES dim_driver(driver_id),\n",
    "        constructor_id VARCHAR(100) REFERENCES dim_constructor(constructor_id),\n",
    "        rank_fastest_lap VARCHAR(50),\n",
    "        lap VARCHAR(50),\n",
    "        time VARCHAR(50),\n",
    "        average_speed VARCHAR(50)\n",
    "        );\n",
    "        \"\"\""
   ]
  },
  {
   "cell_type": "code",
   "execution_count": 113,
   "id": "d25fafd4-0a18-4231-9bcc-9c4663487220",
   "metadata": {},
   "outputs": [],
   "source": [
    "cur.close()\n",
    "conn.close()"
   ]
  },
  {
   "cell_type": "code",
   "execution_count": null,
   "id": "3b21e7f7-4b41-4c57-9c39-231059acc776",
   "metadata": {},
   "outputs": [],
   "source": [
    "# def connect():\n",
    "#     try:\n",
    "#         conn = None\n",
    "#         params = config()\n",
    "#         conn = psycopg2.connect(**params)\n",
    "#         conn.set_session(autocommit=True)\n",
    "\n",
    "#         # create a cursor\n",
    "#         cur = conn.cursor() \n",
    "\n",
    "#         # close connection to f1_db database\n",
    "#         conn.close()\n",
    "\n",
    "#         return cur, conn"
   ]
  }
 ],
 "metadata": {
  "kernelspec": {
   "display_name": "Python 3 (ipykernel)",
   "language": "python",
   "name": "python3"
  },
  "language_info": {
   "codemirror_mode": {
    "name": "ipython",
    "version": 3
   },
   "file_extension": ".py",
   "mimetype": "text/x-python",
   "name": "python",
   "nbconvert_exporter": "python",
   "pygments_lexer": "ipython3",
   "version": "3.12.0"
  }
 },
 "nbformat": 4,
 "nbformat_minor": 5
}
