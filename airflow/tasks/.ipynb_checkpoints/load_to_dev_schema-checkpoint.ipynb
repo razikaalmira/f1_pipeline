{
 "cells": [
  {
   "cell_type": "code",
   "execution_count": 1,
   "id": "1822f328-6cba-446b-b378-cdec3703825a",
   "metadata": {},
   "outputs": [],
   "source": [
    "import psycopg2\n",
    "import pandas as pd\n",
    "import boto3\n",
    "from io import StringIO\n",
    "import json\n",
    "import psycopg2\n",
    "from config import config\n",
    "from sqlalchemy import create_engine"
   ]
  },
  {
   "cell_type": "code",
   "execution_count": 2,
   "id": "db6c3120-dc77-4238-b802-e6cf976bb6d6",
   "metadata": {},
   "outputs": [],
   "source": [
    "my_bucket = 'formula1-project-bucket'\n",
    "s3_resource = boto3.resource('s3')\n",
    "\n",
    "# List all the csv in the bucket\n",
    "bucket = s3_resource.Bucket(my_bucket)\n",
    "objects = bucket.objects.all()\n",
    "object_list = []\n",
    "for o in objects:\n",
    "    object_list.append(o.key)"
   ]
  },
  {
   "cell_type": "code",
   "execution_count": 3,
   "id": "08c21e21-c964-4cd5-a8b3-260d872519e3",
   "metadata": {},
   "outputs": [],
   "source": [
    "# Import all the csv in the bucket as dataframe\n",
    "for file_name in object_list:\n",
    "    obj = s3_resource.Object(bucket_name=my_bucket, key=file_name)\n",
    "    response = obj.get()\n",
    "    data = response['Body'].read().decode('utf-8')\n",
    "    globals()[file_name.split('.')[0]] = pd.read_csv(StringIO(data),on_bad_lines='skip')"
   ]
  },
  {
   "cell_type": "code",
   "execution_count": 22,
   "id": "fb43364b-22c2-4938-8d19-7f79dd2d3482",
   "metadata": {},
   "outputs": [],
   "source": [
    "race_result_df = race_result.copy()\n",
    "race_result_df['Driver'] = race_result_df['Driver'].apply(lambda x: x.replace(\"'\",'\"'))\n",
    "race_result_df['Constructor'] = race_result_df['Constructor'].apply(lambda x: x.replace(\"'\",'\"'))\n",
    "race_result_df['Time'] = race_result_df['Time'].apply(lambda x: str(x).replace(\"'\",'\"'))\n",
    "race_result_df['FastestLap'] = race_result_df['FastestLap'].apply(lambda x: str(x).replace(\"'\",'\"'))"
   ]
  },
  {
   "cell_type": "code",
   "execution_count": 23,
   "id": "2362f418-b1ba-4c7a-b4c1-0934e6ba967b",
   "metadata": {},
   "outputs": [],
   "source": [
    "# fixed invalid values in column 'Time'\n",
    "race_result_df.loc[race_result_df['Time']=='nan','Time'] = {\"millis\": \"\", \"time\": \"\"}"
   ]
  },
  {
   "cell_type": "code",
   "execution_count": 26,
   "id": "16d58318-5387-4cd2-9066-b18812cc0452",
   "metadata": {},
   "outputs": [],
   "source": [
    "season_list['Circuit'] = season_list['Circuit'].apply(lambda x: str(x).replace(\"'\",'\"'))\n",
    "season_list['FirstPractice'] = season_list['FirstPractice'].apply(lambda x: str(x).replace(\"'\",'\"'))\n",
    "season_list['SecondPractice'] = season_list['SecondPractice'].apply(lambda x: str(x).replace(\"'\",'\"'))\n",
    "season_list['ThirdPractice'] = season_list['ThirdPractice'].apply(lambda x: str(x).replace(\"'\",'\"'))\n",
    "season_list['Qualifying'] = season_list['Qualifying'].apply(lambda x: str(x).replace(\"'\",'\"'))\n",
    "season_list['Sprint'] = season_list['Sprint'].apply(lambda x: str(x).replace(\"'\",'\"'))"
   ]
  },
  {
   "cell_type": "code",
   "execution_count": 27,
   "id": "acc5b12d-a74e-4c79-9c56-0f88f0dba6ba",
   "metadata": {},
   "outputs": [],
   "source": [
    "# import configuration\n",
    "params = config()\n",
    "# create connection\n",
    "conn = psycopg2.connect(**params,options='-csearch_path=dbo,dev')\n",
    "# create cursor\n",
    "cur = conn.cursor()\n",
    "\n",
    "conn_string = f\"postgresql://{params['user']}:{params['password']}@{params['host']}/{params['database']}?options=-csearch_path%3Ddbo,dev\"\n",
    "engine = create_engine(conn_string).connect()\n",
    "\n",
    "\n",
    "def create_table(sql_query):\n",
    "    try:\n",
    "        cur.execute(sql_query)\n",
    "    except Exception as e:\n",
    "        print(f\"Error: {e}\")\n",
    "        print(f\"Query: {sql_query}\")\n",
    "        conn.rollback()\n",
    "    else:\n",
    "        conn.commit()\n",
    "        print(f\"table has been created\")\n",
    "        \n",
    "def insert_to_table(dataframe,table_name):\n",
    "    try:\n",
    "        dataframe.to_sql(name=table_name,con=engine,if_exists='replace',index=False)\n",
    "        # conn.autocommit = True\n",
    "    except Exception as e:\n",
    "        print(f\"Error: {e}\")\n",
    "    else:\n",
    "        conn.commit()\n",
    "        print(f\"{table_name} has been inserted\")"
   ]
  },
  {
   "cell_type": "code",
   "execution_count": 28,
   "id": "4fc399e4-4029-455f-ad86-194fc5c717d9",
   "metadata": {},
   "outputs": [],
   "source": [
    "laps_data_temp = \"\"\"\n",
    "    CREATE TABLE IF NOT EXISTS laps_data_temp (\n",
    "        meeting_key            INTEGER,\n",
    "        session_key            INTEGER,\n",
    "        driver_number          INTEGER,\n",
    "        i1_speed             DECIMAL,\n",
    "        i2_speed             DECIMAL,\n",
    "        st_speed             DECIMAL,\n",
    "        date_start            DATE,\n",
    "        lap_duration         DECIMAL,\n",
    "        is_pit_out_lap          BOOLEAN,\n",
    "        duration_sector_1    DECIMAL,\n",
    "        duration_sector_2    DECIMAL,\n",
    "        duration_sector_3    DECIMAL,\n",
    "        segments_sector_1     VARCHAR(100),\n",
    "        segments_sector_2     VARCHAR(100),\n",
    "        segments_sector_3     VARCHAR(100),\n",
    "        lap_number             INTEGER\n",
    "        );\n",
    "        \"\"\"\n",
    "\n",
    "meeting_info_temp = \"\"\"\n",
    "    CREATE TABLE IF NOT EXISTS meeting_info_temp (\n",
    "        meeting_name             VARCHAR(100),\n",
    "        meeting_official_name    VARCHAR(100),\n",
    "        location                 VARCHAR(100),\n",
    "        country_key               INTEGER,\n",
    "        country_code             VARCHAR(100),\n",
    "        country_name             VARCHAR(100),\n",
    "        circuit_key               INTEGER,\n",
    "        circuit_short_name       VARCHAR(100),\n",
    "        date_start               VARCHAR(100),\n",
    "        gmt_offset               TIME,\n",
    "        meeting_key               INTEGER,\n",
    "        year                      INTEGER,\n",
    "        meeting_code             VARCHAR(100)\n",
    "        );\n",
    "        \"\"\"\n",
    "\n",
    "race_result_temp = \"\"\"\n",
    "    CREATE TABLE IF NOT EXISTS race_result_temp (\n",
    "        number            INTEGER,\n",
    "        position          INTEGER,\n",
    "        positionText     VARCHAR(100),\n",
    "        points          DECIMAL,\n",
    "        Driver           JSONB,\n",
    "        Constructor      JSONB,\n",
    "        grid              INTEGER,\n",
    "        laps              INTEGER,\n",
    "        status           VARCHAR(100),\n",
    "        Time             JSONB,\n",
    "        FastestLap       JSONB,\n",
    "        season            INTEGER,\n",
    "        round             INTEGER\n",
    "        );\n",
    "        \"\"\"\n",
    "\n",
    "season_list_temp = \"\"\"\n",
    "    CREATE TABLE IF NOT EXISTS season_list_temp (\n",
    "        season             INTEGER,\n",
    "        round              INTEGER,\n",
    "        url               VARCHAR(100),\n",
    "        raceName          VARCHAR(100),\n",
    "        Circuit           JSONB,\n",
    "        date              DATE,\n",
    "        time              VARCHAR(100),\n",
    "        FirstPractice     JSONB,\n",
    "        SecondPractice    JSONB,\n",
    "        ThirdPractice     JSONB,\n",
    "        Qualifying        JSONB,\n",
    "        Sprint            JSONB\n",
    "        );\n",
    "        \"\"\"\n",
    "\n",
    "session_info_temp = \"\"\"\n",
    "    CREATE TABLE IF NOT EXISTS session_info_temp (\n",
    "        location              VARCHAR(100),\n",
    "        country_key            INTEGER,\n",
    "        country_code          VARCHAR(100),\n",
    "        country_name          VARCHAR(100),\n",
    "        circuit_key            INTEGER,\n",
    "        circuit_short_name    VARCHAR(100),\n",
    "        session_type          VARCHAR(100),\n",
    "        session_name          VARCHAR(100),\n",
    "        date_start            VARCHAR(100),\n",
    "        date_end              VARCHAR(100),\n",
    "        gmt_offset            TIME,\n",
    "        session_key            INTEGER,\n",
    "        meeting_key            INTEGER,\n",
    "        year                   INTEGER\n",
    "        );\n",
    "        \"\"\"\n",
    "\n",
    "\n",
    "weather_info_temp = \"\"\"\n",
    "    CREATE TABLE IF NOT EXISTS weather_info_temp (\n",
    "        meeting_key            INTEGER,\n",
    "        session_key            INTEGER,\n",
    "        date                  VARCHAR(100),\n",
    "        air_temperature      DECIMAL,\n",
    "        humidity             DECIMAL,\n",
    "        pressure             DECIMAL,\n",
    "        rainfall               INTEGER,\n",
    "        track_temperature    DECIMAL,\n",
    "        wind_direction         INTEGER,\n",
    "        wind_speed           DECIMAL\n",
    "        );\n",
    "        \"\"\""
   ]
  },
  {
   "cell_type": "code",
   "execution_count": 4,
   "id": "a9815cfa-1e9f-4900-abfc-865999487474",
   "metadata": {},
   "outputs": [
    {
     "data": {
      "text/plain": [
       "['laps_data.csv',\n",
       " 'meeting_info.csv',\n",
       " 'race_result.csv',\n",
       " 'season_list.csv',\n",
       " 'session_info.csv',\n",
       " 'weather_info.csv']"
      ]
     },
     "execution_count": 4,
     "metadata": {},
     "output_type": "execute_result"
    }
   ],
   "source": [
    "object_list"
   ]
  },
  {
   "cell_type": "code",
   "execution_count": 35,
   "id": "bfc14a0f-c158-4497-a67e-b4882c94567c",
   "metadata": {},
   "outputs": [
    {
     "name": "stdout",
     "output_type": "stream",
     "text": [
      "table has been created\n",
      "race_result_temp has been inserted\n",
      "table has been created\n",
      "meeting_info_temp has been inserted\n"
     ]
    }
   ],
   "source": [
    "pairs = [[race_result_df,'race_result_temp',race_result_temp],\n",
    "        [laps_data,'laps_data_temp',laps_data_temp],\n",
    "        [weather_info,'weather_info_temp',weather_info_temp],\n",
    "       [season_list,'season_list_temp',season_list_temp],\n",
    "       [session_info,'session_info_temp',session_info_temp],\n",
    "        [meeting_info,'meeting_info_temp',meeting_info_temp]]\n",
    "\n",
    "for df,tablename,query in pairs:\n",
    "    create_table(query)\n",
    "    insert_to_table(df,tablename)"
   ]
  },
  {
   "cell_type": "code",
   "execution_count": 36,
   "id": "d25fafd4-0a18-4231-9bcc-9c4663487220",
   "metadata": {},
   "outputs": [],
   "source": [
    "cur.close()\n",
    "conn.close()"
   ]
  }
 ],
 "metadata": {
  "kernelspec": {
   "display_name": "Python 3 (ipykernel)",
   "language": "python",
   "name": "python3"
  },
  "language_info": {
   "codemirror_mode": {
    "name": "ipython",
    "version": 3
   },
   "file_extension": ".py",
   "mimetype": "text/x-python",
   "name": "python",
   "nbconvert_exporter": "python",
   "pygments_lexer": "ipython3",
   "version": "3.12.0"
  }
 },
 "nbformat": 4,
 "nbformat_minor": 5
}
